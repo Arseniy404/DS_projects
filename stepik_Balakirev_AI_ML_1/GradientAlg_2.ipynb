{
 "cells": [
  {
   "cell_type": "markdown",
   "metadata": {},
   "source": [
    "# 2.1 Градиентный алгоритм (градиентный спуск)"
   ]
  },
  {
   "cell_type": "markdown",
   "metadata": {},
   "source": [
    "### Подвиг 5\n",
    "_Напишите программу поиска точки минимума функции_"
   ]
  },
  {
   "cell_type": "code",
   "execution_count": 1,
   "metadata": {},
   "outputs": [],
   "source": [
    "import numpy as np\n",
    "\n",
    "\n",
    "def func(x):\n",
    "    return 0.5 * x + 0.2 * x ** 2 - 0.1 * x ** 3\n",
    "\n",
    "\n",
    "def df(x):\n",
    "    return 0.5 + 0.4 * x - 0.3 * x*x\n",
    "\n",
    "\n",
    "coord_x = np.arange(-5.0, 5.0, 0.1) # значения по оси абсцисс\n",
    "coord_y = func(coord_x) # значения по оси ординат (значения функции)\n",
    "nu = 0.01\n",
    "x = -4\n",
    "n = 200\n",
    "# здесь продолжайте программу\n",
    "for i in range(n):\n",
    "    x = x - df(x) * nu\n",
    "\n",
    "    "
   ]
  },
  {
   "cell_type": "markdown",
   "metadata": {},
   "source": [
    "### Подвиг 6\n",
    "_Необходимо выполнить аппроксимацию (восстановление) функции на интервале [-5, 5]_"
   ]
  },
  {
   "cell_type": "code",
   "execution_count": 2,
   "metadata": {},
   "outputs": [],
   "source": [
    "import numpy as np\n",
    "\n",
    "# Исходная функция\n",
    "def func(x):\n",
    "    return 0.1 * x**2 - np.sin(x) + 5\n",
    "\n",
    "# Функция для вычисления градиента\n",
    "model_a = lambda x, w: x @ w\n",
    "Q = lambda w, X: 1/len(X) * sum([(model_a(xi, w) - func(xi[1]))**2 for xi in X])\n",
    "grad_Q = lambda w, X: 2/len(X) * np.sum([(model_a(xi, w) - func(xi[1])) * xi.T for xi in X], axis=0)\n",
    "\n",
    "\n",
    "# Значения по оси абсцисс и значения функции по оси ординат\n",
    "coord_x = np.arange(-5.0, 5.0, 0.1)\n",
    "coord_y = func(coord_x)\n",
    "\n",
    "# Начальные параметры\n",
    "eta = np.array([0.1, 0.01, 0.001, 0.0001])  # шаг обучения для каждого параметра\n",
    "w = np.array([0., 0., 0., 0.])  # начальные веса\n",
    "N = 200  # количество итераций\n",
    "\n",
    "X = np.array([[xi**i for i in range(4)] for xi in coord_x])\n",
    "for _ in range(N):\n",
    "    w = w - eta * grad_Q(w, X)\n",
    "\n",
    "Q = Q(w, X)"
   ]
  },
  {
   "cell_type": "markdown",
   "metadata": {},
   "source": [
    "# 2.2 Стохастический градиентный спуск SGD и алгоритм SAG"
   ]
  },
  {
   "cell_type": "markdown",
   "metadata": {},
   "source": [
    "### Подвиг 6\n",
    "_Необходимо выполнить аппроксимацию (восстановление) функции на интервале [-5, 5]_"
   ]
  },
  {
   "cell_type": "code",
   "execution_count": 3,
   "metadata": {},
   "outputs": [],
   "source": [
    "import numpy as np\n",
    "\n",
    "# исходная функция, которую нужно аппроксимировать моделью a(x)\n",
    "def func(x):\n",
    "    return 0.5 * x**2 - 0.1 * 1/np.exp(-x) + 0.5 * np.cos(2*x) - 2.\n",
    "\n",
    "\n",
    "# здесь объявляйте необходимые функции\n",
    "\n",
    "def Q(w, x, y):\n",
    "    x = np.array(x).reshape(-1, 1)\n",
    "    return (w @ x - y)**2\n",
    "\n",
    "def grad_Q(w, x, y):\n",
    "    x = x.reshape(-1, 1)\n",
    "    return 2*(w @ x - y) @ x.T\n",
    "\n",
    "def xx(x):\n",
    "    return np.array([1, x, x**2, np.cos(2*x), np.sin(2*x)])\n",
    "\n",
    "\n",
    "coord_x = np.arange(-5.0, 5.0, 0.1) # значения по оси абсцисс [-5; 5] с шагом 0.1\n",
    "coord_y = func(coord_x) # значения функции по оси ординат\n",
    "\n",
    "sz = len(coord_x)\t# количество значений функций (точек)\n",
    "eta = np.array([0.01, 0.001, 0.0001, 0.01, 0.01]) # шаг обучения для каждого параметра w0, w1, w2, w3, w4\n",
    "w = np.array([0., 0., 0., 0., 0.]) # начальные значения параметров модели\n",
    "N = 500 # число итераций алгоритма SGD\n",
    "lm = 0.02 # значение параметра лямбда для вычисления скользящего экспоненциального среднего\n",
    "\n",
    "Qe = sum(Q(w, xx(x), y) for x, y in zip(coord_x, coord_y))/sz\n",
    "np.random.seed(0) \n",
    "\n",
    "for _ in range(N):\n",
    "    k = np.random.randint(0, sz-1) \n",
    "    w = w - eta * grad_Q(w, xx(coord_x[k]), coord_y[k])\n",
    "    Qe = lm * Q(w, xx(coord_x[k]), coord_y[k]) + (1 - lm) * Qe\n",
    "    \n",
    "Q = sum(Q(w, xx(x), y) for x, y in zip(coord_x, coord_y))/sz"
   ]
  },
  {
   "cell_type": "markdown",
   "metadata": {},
   "source": [
    "### Подвиг 7\n",
    "_Необходимо выполнить  аппроксимацию (восстановление) функции на интервале [-4, 6]_"
   ]
  },
  {
   "cell_type": "code",
   "execution_count": 4,
   "metadata": {},
   "outputs": [],
   "source": [
    "import numpy as np\n",
    "\n",
    "# исходная функция, которую нужно аппроксимировать моделью a(x)\n",
    "def func(x):\n",
    "    return 0.5 * x + 0.2 * x ** 2 - 0.05 * x ** 3 + 0.2 * np.sin(4 * x) - 2.5\n",
    "\n",
    "\n",
    "# здесь объявляйте необходимые функции\n",
    "\n",
    "def Q(w, x, y, k, batch_size):\n",
    "    s = 0\n",
    "    for i in range(k, k + batch_size):\n",
    "        qwe = np.array(xx(x[i])).reshape(-1, 1)\n",
    "        \n",
    "        s += (w @ qwe - y[i])**2\n",
    "    return s / batch_size\n",
    "    \n",
    "\n",
    "def grad_Q(w, x, y, k, batch_size):\n",
    "    s = 0\n",
    "    for i in range(k, k + batch_size):\n",
    "        qwe = np.array(xx(x[i])).reshape(-1, 1)\n",
    "        s += (w @ qwe - y[i]) * qwe.T\n",
    "    return 2 * s / batch_size\n",
    "\n",
    "\n",
    "def xx(x):\n",
    "    return np.array([1, x, x**2, x**3])\n",
    "\n",
    "# -------------------------------\n",
    "coord_x = np.arange(-4.0, 6.0, 0.1) \n",
    "coord_y = func(coord_x) \n",
    "\n",
    "sz = len(coord_x)\t\n",
    "eta = np.array([0.1, 0.01, 0.001, 0.0001])\n",
    "w = np.array([0., 0., 0., 0.])\n",
    "N = 500 \n",
    "lm = 0.02 \n",
    "batch_size = 50 \n",
    "\n",
    "Qe = Q(w, coord_x, coord_y, 0, sz)\n",
    "np.random.seed(0) \n",
    "# -------------------------------\n",
    "\n",
    "\n",
    "for _ in range(N):\n",
    "    k = np.random.randint(0, sz-batch_size-1)\n",
    "    w = w - eta * grad_Q(w, coord_x, coord_y, k, batch_size)\n",
    "    Qe = lm * Q(w, coord_x, coord_y, k, batch_size) + (1 - lm) * Qe\n",
    "\n",
    "Q = Q(w, coord_x, coord_y, 0, sz)\n",
    "w = w[0]\n"
   ]
  },
  {
   "cell_type": "markdown",
   "metadata": {},
   "source": [
    "# 2.3 Пример использования SGD при бинарной классификации образов"
   ]
  },
  {
   "cell_type": "markdown",
   "metadata": {},
   "source": [
    "### Подвиг 4\n",
    "_Вычислить веса $w$ для данных_"
   ]
  },
  {
   "cell_type": "code",
   "execution_count": 5,
   "metadata": {},
   "outputs": [],
   "source": [
    "import numpy as np\n",
    "\n",
    "\n",
    "# логарифмическая функция потерь\n",
    "def loss(w, x, y):\n",
    "    M = np.dot(w, x) * y\n",
    "    return np.log2(1 + np.exp(-M))\n",
    "\n",
    "\n",
    "# производная логарифмической функции потерь по вектору w\n",
    "def df(w, x, y):\n",
    "    x = np.array(x)\n",
    "    M = np.dot(w, x) * y\n",
    "    return -(np.exp(-M) * x.T * y) / (1 + np.exp(-M) * np.log(2))\n",
    "\n",
    "\n",
    "\n",
    "\n",
    "data_x = [(3.0, 4.9), (2.7, 3.9), (3.0, 5.5), (2.6, 4.0), (2.9, 4.3), (3.1, 5.1), (2.2, 4.5), (2.3, 3.3), (2.7, 5.1), (3.3, 5.7), (2.8, 5.1), (2.8, 4.9), (2.5, 4.5), (2.8, 4.7), (3.2, 4.7), (3.2, 5.7), (2.8, 6.1), (3.6, 6.1), (2.8, 4.8), (2.9, 4.5), (3.1, 4.9), (2.3, 4.4), (3.3, 6.0), (2.6, 5.6), (3.0, 4.4), (2.9, 4.7), (2.8, 4.0), (2.5, 5.8), (2.4, 3.3), (2.8, 6.7), (3.0, 5.1), (2.3, 4.0), (3.1, 5.5), (2.8, 4.8), (2.7, 5.1), (2.5, 4.0), (3.1, 4.4), (3.8, 6.7), (3.1, 5.6), (3.1, 4.7), (3.0, 5.8), (3.0, 5.2), (3.0, 4.5), (2.7, 4.9), (3.0, 6.6), (2.9, 4.6), (3.0, 4.6), (2.6, 3.5), (2.7, 5.1), (2.5, 5.0), (2.0, 3.5), (3.2, 5.9), (2.5, 5.0), (3.4, 5.6), (3.4, 4.5), (3.2, 5.3), (2.2, 4.0), (2.2, 5.0), (3.3, 4.7), (2.7, 4.1), (2.4, 3.7), (3.0, 4.2), (3.2, 6.0), (3.0, 4.2), (3.0, 4.5), (2.7, 4.2), (2.5, 3.0), (2.8, 4.6), (2.9, 4.2), (3.1, 5.4), (2.5, 4.9), (3.2, 5.1), (2.8, 4.5), (2.8, 5.6), (3.4, 5.4), (2.7, 3.9), (3.0, 6.1), (3.0, 5.8), (3.0, 4.1), (2.5, 3.9), (2.4, 3.8), (2.6, 4.4), (2.9, 3.6), (3.3, 5.7), (2.9, 5.6), (3.0, 5.2), (3.0, 4.8), (2.7, 5.3), (2.8, 4.1), (2.8, 5.6), (3.2, 4.5), (3.0, 5.9), (2.9, 4.3), (2.6, 6.9), (2.8, 5.1), (2.9, 6.3), (3.2, 4.8), (3.0, 5.5), (3.0, 5.0), (3.8, 6.4)]\n",
    "data_y = [1, -1, 1, -1, -1, 1, -1, -1, -1, 1, 1, 1, 1, -1, -1, 1, 1, 1, -1, -1, -1, -1, 1, 1, -1, -1, -1, 1, -1, 1, 1, -1, 1, 1, 1, -1, -1, 1, 1, -1, 1, 1, -1, 1, 1, -1, -1, -1, 1, 1, -1, 1, 1, 1, -1, 1, -1, 1, -1, -1, -1, -1, 1, -1, -1, -1, -1, -1, -1, 1, -1, 1, -1, 1, 1, -1, 1, 1, -1, -1, -1, -1, -1, 1, 1, 1, 1, 1, -1, 1, -1, 1, -1, 1, 1, 1, -1, 1, -1, 1]\n",
    "\n",
    "\n",
    "qwe = lambda a, b: 1 if a * b < 0 else 1\n",
    "\n",
    "x_train = np.array([[1, x[0], x[1]] for x in data_x])\n",
    "y_train = np.array(data_y)\n",
    "sz = len(data_x)\n",
    "n_train = len(x_train)  # размер обучающей выборки\n",
    "w = [0.0, 0.0, 0.0]  # начальные весовые коэффициенты\n",
    "nt = np.array([0.5, 0.01, 0.01])   # шаг обучения для каждого параметра w0, w1, w2\n",
    "lm = 0.01  # значение параметра лямбда для вычисления скользящего экспоненциального среднего\n",
    "N = 1000  # число итераций алгоритма SGD\n",
    "\n",
    "Qe = sum(loss(w, x_train[i], y_train[i]) for i in range(len(data_x)))/sz\n",
    "np.random.seed(0)\n",
    "\n",
    "\n",
    "\n",
    "for i in range(N):\n",
    "    k = np.random.randint(0, n_train-1)\n",
    "    loss_k = loss(w, x_train[k], y_train[k])\n",
    "    grad = df(w, x_train[k], y_train[k])\n",
    "    w = w - nt * grad\n",
    "    Qe = lm * loss_k + (1 - lm) * Qe\n",
    "\n",
    "Q = np.mean([w @ x_train[i] * y_train[i] < 0 for i in range(n_train)])\n"
   ]
  },
  {
   "cell_type": "markdown",
   "metadata": {},
   "source": [
    "### Подвиг 5\n",
    "_Вычислить веса $w$ для данных_"
   ]
  },
  {
   "cell_type": "code",
   "execution_count": 19,
   "metadata": {},
   "outputs": [],
   "source": [
    "import numpy as np\n",
    "\n",
    "\n",
    "# экспоненциальная функция потерь\n",
    "def loss(w, x, y):\n",
    "    M = np.dot(w, x) * y\n",
    "    return np.exp(-M)\n",
    "\n",
    "\n",
    "# производная экспоненциальной функции потерь по вектору w\n",
    "def df(w, x, y):\n",
    "    x = np.array(x)\n",
    "    M = np.dot(w, x) * y\n",
    "    return -np.exp(-M) * x.T * y\n",
    "\n",
    "\n",
    "data_x = [(5.8, 1.2), (5.6, 1.5), (6.5, 1.5), (6.1, 1.3), (6.4, 1.3), (7.7, 2.0), (6.0, 1.8), (5.6, 1.3), (6.0, 1.6), (5.8, 1.9), (5.7, 2.0), (6.3, 1.5), (6.2, 1.8), (7.7, 2.3), (5.8, 1.2), (6.3, 1.8), (6.0, 1.0), (6.2, 1.3), (5.7, 1.3), (6.3, 1.9), (6.7, 2.5), (5.5, 1.2), (4.9, 1.0), (6.1, 1.4), (6.0, 1.6), (7.2, 2.5), (7.3, 1.8), (6.6, 1.4), (5.6, 2.0), (5.5, 1.0), (6.4, 2.2), (5.6, 1.3), (6.6, 1.3), (6.9, 2.1), (6.8, 2.1), (5.7, 1.3), (7.0, 1.4), (6.1, 1.4), (6.1, 1.8), (6.7, 1.7), (6.0, 1.5), (6.5, 1.8), (6.4, 1.5), (6.9, 1.5), (5.6, 1.3), (6.7, 1.4), (5.8, 1.9), (6.3, 1.3), (6.7, 2.1), (6.2, 2.3), (6.3, 2.4), (6.7, 1.8), (6.4, 2.3), (6.2, 1.5), (6.1, 1.4), (7.1, 2.1), (5.7, 1.0), (6.8, 1.4), (6.8, 2.3), (5.1, 1.1), (4.9, 1.7), (5.9, 1.8), (7.4, 1.9), (6.5, 2.0), (6.7, 1.5), (6.5, 2.0), (5.8, 1.0), (6.4, 2.1), (7.6, 2.1), (5.8, 2.4), (7.7, 2.2), (6.3, 1.5), (5.0, 1.0), (6.3, 1.6), (7.7, 2.3), (6.4, 1.9), (6.5, 2.2), (5.7, 1.2), (6.9, 2.3), (5.7, 1.3), (6.1, 1.2), (5.4, 1.5), (5.2, 1.4), (6.7, 2.3), (7.9, 2.0), (5.6, 1.1), (7.2, 1.8), (5.5, 1.3), (7.2, 1.6), (6.3, 2.5), (6.3, 1.8), (6.7, 2.4), (5.0, 1.0), (6.4, 1.8), (6.9, 2.3), (5.5, 1.3), (5.5, 1.1), (5.9, 1.5), (6.0, 1.5), (5.9, 1.8)]\n",
    "data_y = [-1, -1, -1, -1, -1, 1, 1, -1, -1, 1, 1, -1, 1, 1, -1, 1, -1, -1, -1, 1, 1, -1, -1, -1, -1, 1, 1, -1, 1, -1, 1, -1, -1, 1, 1, -1, -1, 1, 1, -1, 1, 1, -1, -1, -1, -1, 1, -1, 1, 1, 1, 1, 1, -1, -1, 1, -1, -1, 1, -1, 1, -1, 1, 1, -1, 1, -1, 1, 1, 1, 1, 1, -1, -1, 1, 1, 1, -1, 1, -1, -1, -1, -1, 1, 1, -1, 1, -1, 1, 1, 1, 1, -1, 1, 1, -1, -1, -1, -1, 1]\n",
    "\n",
    "x_train = np.array([[1, x[0], x[1]] for x in data_x])\n",
    "y_train = np.array(data_y)\n",
    "\n",
    "sz = len(x_train)  # размер обучающей выборки\n",
    "w = [0.0, 0.0, 0.0]  # начальные весовые коэффициенты\n",
    "nt = np.array([0.5, 0.01, 0.01])  # шаг обучения для каждого параметра w0, w1, w2\n",
    "lm = 0.01  # значение параметра лямбда для вычисления скользящего экспоненциального среднего\n",
    "N = 500  # число итераций алгоритма SGD\n",
    "batch_size = 10 # размер мини-батча (величина K = 10)\n",
    "\n",
    "Qe = sum(loss(w, x_train[i], y_train[i]) for i in range(len(data_x)))/sz\n",
    "np.random.seed(0) # генерация одинаковых последовательностей псевдослучайных чисел\n",
    "\n",
    "# здесь продолжайте программу\n",
    "\n",
    "for i in range(20):\n",
    "    M = np.dot(w, x_train[k]) * y_train[k]\n",
    "    k = np.random.randint(0, sz-1)\n",
    "    loss_k = loss(w, x_train[k], y_train[k])\n",
    "    grad = df(w, x_train[k], y_train[k])\n",
    "    # w = w - nt * grad\n",
    "    # Qe = lm * loss_k + (1 - lm) * Qe\n",
    "    \n",
    "\n"
   ]
  },
  {
   "cell_type": "code",
   "execution_count": 20,
   "metadata": {},
   "outputs": [
    {
     "data": {
      "text/plain": [
       "array([8.06411999e-06, 4.43526600e-05, 1.04833560e-05])"
      ]
     },
     "execution_count": 20,
     "metadata": {},
     "output_type": "execute_result"
    }
   ],
   "source": [
    "w1 = np.array([-6.67250056, -0.69843118, -0.11899156])\n",
    "x2 = np.array([1,  5.5, 1.3])\n",
    "qwe3 = -1\n",
    "M = 11.72808596677911\n",
    "asd = -np.exp(-M) * x2.T * qwe3\n",
    "asd"
   ]
  },
  {
   "cell_type": "code",
   "execution_count": 8,
   "metadata": {},
   "outputs": [
    {
     "data": {
      "text/plain": [
       "0.07"
      ]
     },
     "execution_count": 8,
     "metadata": {},
     "output_type": "execute_result"
    }
   ],
   "source": [
    "import numpy as np\n",
    "\n",
    "\n",
    "# экспоненциальная функция потерь\n",
    "def loss(w, x, y):\n",
    "    M = np.dot(w, x) * y\n",
    "    return np.exp(-M)\n",
    "\n",
    "\n",
    "# производная экспоненциальной функции потерь по вектору w\n",
    "def df(w, x, y):\n",
    "    M = np.dot(w, x) * y\n",
    "    return -np.exp(-M) * x.T * y\n",
    "\n",
    "\n",
    "data_x = [(5.8, 1.2), (5.6, 1.5), (6.5, 1.5), (6.1, 1.3), (6.4, 1.3), (7.7, 2.0), (6.0, 1.8), (5.6, 1.3), (6.0, 1.6), (5.8, 1.9), (5.7, 2.0), (6.3, 1.5), (6.2, 1.8), (7.7, 2.3), (5.8, 1.2), (6.3, 1.8), (6.0, 1.0), (6.2, 1.3), (5.7, 1.3), (6.3, 1.9), (6.7, 2.5), (5.5, 1.2), (4.9, 1.0), (6.1, 1.4), (6.0, 1.6), (7.2, 2.5), (7.3, 1.8), (6.6, 1.4), (5.6, 2.0), (5.5, 1.0), (6.4, 2.2), (5.6, 1.3), (6.6, 1.3), (6.9, 2.1), (6.8, 2.1), (5.7, 1.3), (7.0, 1.4), (6.1, 1.4), (6.1, 1.8), (6.7, 1.7), (6.0, 1.5), (6.5, 1.8), (6.4, 1.5), (6.9, 1.5), (5.6, 1.3), (6.7, 1.4), (5.8, 1.9), (6.3, 1.3), (6.7, 2.1), (6.2, 2.3), (6.3, 2.4), (6.7, 1.8), (6.4, 2.3), (6.2, 1.5), (6.1, 1.4), (7.1, 2.1), (5.7, 1.0), (6.8, 1.4), (6.8, 2.3), (5.1, 1.1), (4.9, 1.7), (5.9, 1.8), (7.4, 1.9), (6.5, 2.0), (6.7, 1.5), (6.5, 2.0), (5.8, 1.0), (6.4, 2.1), (7.6, 2.1), (5.8, 2.4), (7.7, 2.2), (6.3, 1.5), (5.0, 1.0), (6.3, 1.6), (7.7, 2.3), (6.4, 1.9), (6.5, 2.2), (5.7, 1.2), (6.9, 2.3), (5.7, 1.3), (6.1, 1.2), (5.4, 1.5), (5.2, 1.4), (6.7, 2.3), (7.9, 2.0), (5.6, 1.1), (7.2, 1.8), (5.5, 1.3), (7.2, 1.6), (6.3, 2.5), (6.3, 1.8), (6.7, 2.4), (5.0, 1.0), (6.4, 1.8), (6.9, 2.3), (5.5, 1.3), (5.5, 1.1), (5.9, 1.5), (6.0, 1.5), (5.9, 1.8)]\n",
    "data_y = [-1, -1, -1, -1, -1, 1, 1, -1, -1, 1, 1, -1, 1, 1, -1, 1, -1, -1, -1, 1, 1, -1, -1, -1, -1, 1, 1, -1, 1, -1, 1, -1, -1, 1, 1, -1, -1, 1, 1, -1, 1, 1, -1, -1, -1, -1, 1, -1, 1, 1, 1, 1, 1, -1, -1, 1, -1, -1, 1, -1, 1, -1, 1, 1, -1, 1, -1, 1, 1, 1, 1, 1, -1, -1, 1, 1, 1, -1, 1, -1, -1, -1, -1, 1, 1, -1, 1, -1, 1, 1, 1, 1, -1, 1, 1, -1, -1, -1, -1, 1]\n",
    "\n",
    "x_train = np.array([[1, x[0], x[1]] for x in data_x])\n",
    "y_train = np.array(data_y)\n",
    "\n",
    "n_train = len(x_train)  \n",
    "w = np.array([0.0, 0.0, 0.0])\n",
    "nt = np.array([0.5, 0.01, 0.01]) \n",
    "lm = 0.01  \n",
    "N = 500  \n",
    "batch_size = 10 \n",
    "\n",
    "Qe = np.mean([loss(w, x_train[i], y_train[i]) for i in range(n_train)])\n",
    "np.random.seed(0) \n",
    "\n",
    "for _ in range(N):\n",
    "    k = np.random.randint(0, n_train-batch_size-1)\n",
    "    Qk = np.mean([loss(w, x_train[i], y_train[i]) for i in range(k, k + batch_size)])\n",
    "    grad_Qk = 1/batch_size * np.sum([df(w, x_train[i], y_train[i]) for i in range(k, k + batch_size)], axis=0) \n",
    "    w = w - nt * grad_Qk\n",
    "    Qe = lm * Qk + (1-lm) * Qe\n",
    "\n",
    "Q = np.mean([w @ x_train[i] * y_train[i] < 0 for i in range(n_train)])\n",
    "w = w.tolist()\n",
    "Q"
   ]
  },
  {
   "cell_type": "markdown",
   "metadata": {},
   "source": [
    "# 2.4 Оптимизаторы градиентных алгоритмов: RMSProp, AdaDelta, Adam"
   ]
  },
  {
   "cell_type": "markdown",
   "metadata": {},
   "source": [
    "### Подвиг 3\n",
    "_Напишите программу поиска точки минимума функции с помощью градиентного алгоритма с методом импульсов:_"
   ]
  },
  {
   "cell_type": "code",
   "execution_count": 9,
   "metadata": {
    "scrolled": true
   },
   "outputs": [
    {
     "data": {
      "text/plain": [
       "-0.9465345999520599"
      ]
     },
     "execution_count": 9,
     "metadata": {},
     "output_type": "execute_result"
    }
   ],
   "source": [
    "import numpy as np\n",
    "\n",
    "\n",
    "def func(x):\n",
    "    return -0.5 * x + 0.2 * x ** 2 - 0.01 * x ** 3 - 0.3 * np.sin(4*x)\n",
    "\n",
    "def grad_f(x):\n",
    "    return -0.5 + 0.4*x - 0.09*x**2 - 1.2*np.cos(4*x)\n",
    "\n",
    "def momentum(nu, w, x):\n",
    "    return 0.8 * w + 0.2 * nu * grad_f(x)\n",
    "\n",
    "nu = 0.1\n",
    "x = -3.5\n",
    "N = 200\n",
    "w = 0\n",
    "\n",
    "\n",
    "for _ in range(N):\n",
    "    # w = momentum(nu, w, x)\n",
    "    x -= nu * grad_f(x)\n",
    "    \n",
    "x"
   ]
  },
  {
   "cell_type": "markdown",
   "metadata": {},
   "source": [
    "#### Подвиг 3 (решение обычным градиеном с визуализацией)"
   ]
  },
  {
   "cell_type": "code",
   "execution_count": 10,
   "metadata": {},
   "outputs": [
    {
     "data": {
      "image/png": "[encoded data removed]",
      "text/plain": [
       "<Figure size 1000x600 with 1 Axes>"
      ]
     },
     "metadata": {},
     "output_type": "display_data"
    }
   ],
   "source": [
    "import numpy as np\n",
    "import matplotlib.pyplot as plt\n",
    "\n",
    "# Functions\n",
    "def func(x):\n",
    "    return -0.5 * x + 0.2 * x**2 - 0.01 * x**3 - 0.3 * np.sin(4*x)\n",
    "\n",
    "def grad_f(x):\n",
    "    return -0.5 + 0.4*x - 0.09*x**2 - 1.2*np.cos(4*x)\n",
    "\n",
    "def momentum(nu, w, x):\n",
    "    return 0.8 * w + 0.2 * nu * grad_f(x)\n",
    "\n",
    "# Parameters\n",
    "nu = 0.1\n",
    "x = -3.5\n",
    "N = 200\n",
    "w = 0\n",
    "\n",
    "# Store x values for visualization\n",
    "x_vals = []\n",
    "\n",
    "# Perform momentum optimization\n",
    "for _ in range(N):\n",
    "    \n",
    "    x -= nu * grad_f(x)\n",
    "    x_vals.append(x)\n",
    "\n",
    "# Plot the function and the path taken by x during optimization\n",
    "x_range = np.linspace(-5, 5, 400)\n",
    "y_range = func(x_range)\n",
    "\n",
    "plt.figure(figsize=(10, 6))\n",
    "plt.plot(x_range, y_range, label=\"f(x)\", color='blue')\n",
    "plt.plot(x_vals, func(np.array(x_vals)), 'ro-', label=\"Path of x\", markersize=4)\n",
    "\n",
    "plt.title(\"Momentum Optimization Path on Function f(x)\")\n",
    "plt.xlabel(\"x\")\n",
    "plt.ylabel(\"f(x)\")\n",
    "plt.legend()\n",
    "plt.grid(True)\n",
    "plt.show()\n"
   ]
  },
  {
   "cell_type": "markdown",
   "metadata": {},
   "source": [
    "### Подвиг 4\n",
    "_Напишите программу поиска точки минимума функции с помощью градиентного алгоритма с методом импульсов Нестерова_"
   ]
  },
  {
   "cell_type": "code",
   "execution_count": 21,
   "metadata": {},
   "outputs": [
    {
     "data": {
      "image/png": "[encoded data removed]",
      "text/plain": [
       "<Figure size 1000x600 with 1 Axes>"
      ]
     },
     "metadata": {},
     "output_type": "display_data"
    }
   ],
   "source": [
    "import numpy as np\n",
    "\n",
    "\n",
    "def func(x):\n",
    "    return 0.4 * x + 0.1 * np.sin(2*x) + 0.2 * np.cos(3*x)\n",
    "\n",
    "def grad_f(x):\n",
    "    return 0.4 + 0.2 * np.cos(2*x) - 0.6 * np.sin(3*x)\n",
    "\n",
    "def nestorov(x, v):\n",
    "    return 0.7 * v + 0.3 * grad_f(x - 0.7 * v)\n",
    "\n",
    "# Store x values for visualization\n",
    "x_vals = []\n",
    "\n",
    "nu = 1\n",
    "x = 4\n",
    "v = 0\n",
    "N = 500\n",
    "for _ in range(N):\n",
    "    v = nestorov(x, v)\n",
    "    x -= v\n",
    "    x_vals.append(x)\n",
    "\n",
    "# Plot the function and the path taken by x during optimization\n",
    "x_range = np.linspace(-5, 5, 400)\n",
    "y_range = func(x_range)\n",
    "\n",
    "plt.figure(figsize=(10, 6))\n",
    "plt.plot(x_range, y_range, label=\"f(x)\", color='blue')\n",
    "plt.plot(x_vals, func(np.array(x_vals)), 'ro-', label=\"Path of x\", markersize=4)\n",
    "\n",
    "\n",
    "plt.xlabel(\"x\")\n",
    "plt.ylabel(\"f(x)\")\n",
    "plt.legend()\n",
    "plt.grid(True)\n",
    "plt.show()\n",
    "\n"
   ]
  },
  {
   "cell_type": "markdown",
   "metadata": {},
   "source": [
    "### Подвиг 5\n",
    "_Напишите программу поиска точки минимума функции с помощью градиентного алгоритма с оптимизатором RMSProp_"
   ]
  },
  {
   "cell_type": "code",
   "execution_count": 12,
   "metadata": {},
   "outputs": [
    {
     "data": {
      "image/png": "[encoded data removed]",
      "text/plain": [
       "<Figure size 1000x600 with 1 Axes>"
      ]
     },
     "metadata": {},
     "output_type": "display_data"
    }
   ],
   "source": [
    "import numpy as np\n",
    "\n",
    "\n",
    "def func(x):\n",
    "    return 2 * x + 0.1 * x ** 3 + 2 * np.cos(3*x)\n",
    "\n",
    "def grad_f(x):\n",
    "    return 2 + 0.3 * x ** 2 - 6 * np.sin(3*x)\n",
    "\n",
    "def RMSProp(g, x):\n",
    "    return 0.8 * g + 0.2 * grad_f(x) ** 2\n",
    "\n",
    "nu = 0.5\n",
    "N = 200\n",
    "g = 0\n",
    "e = 0.01\n",
    "x = 4\n",
    "x_vals = []\n",
    "for _ in range(N):\n",
    "    g = RMSProp(g, x)\n",
    "    x -= nu * (grad_f(x)/(np.sqrt(g) + e))\n",
    "    \n",
    "    x_vals.append(x)\n",
    "\n",
    "# Plot the function and the path taken by x during optimization\n",
    "x_range = np.linspace(-5, 5, 400)\n",
    "y_range = func(x_range)\n",
    "\n",
    "plt.figure(figsize=(10, 6))\n",
    "plt.plot(x_range, y_range, label=\"f(x)\", color='blue')\n",
    "plt.plot(x_vals, func(np.array(x_vals)), 'ro-', label=\"Path of x\", markersize=4)\n",
    "\n",
    "plt.title(\"Momentum Optimization Path on Function f(x)\")\n",
    "plt.xlabel(\"x\")\n",
    "plt.ylabel(\"f(x)\")\n",
    "plt.legend()\n",
    "plt.grid(True)\n",
    "plt.show()    "
   ]
  },
  {
   "cell_type": "markdown",
   "metadata": {},
   "source": [
    "### Подвиг 6\n",
    "_Необходимо выполнить аппроксимацию (восстановление) функции на интервале [-4, 6]_"
   ]
  },
  {
   "cell_type": "code",
   "execution_count": 13,
   "metadata": {},
   "outputs": [
    {
     "data": {
      "text/plain": [
       "0.020238188136794403"
      ]
     },
     "execution_count": 13,
     "metadata": {},
     "output_type": "execute_result"
    }
   ],
   "source": [
    "import numpy as np\n",
    "\n",
    "# исходная функция, которую нужно аппроксимировать моделью a(x)\n",
    "def func(x):\n",
    "    return -0.7 * x - 0.2 * x ** 2 + 0.05 * x ** 3 - 0.2 * np.cos(3 * x) + 2\n",
    "\n",
    "\n",
    "# здесь объявляйте необходимые функции\n",
    "def Q(w, x, y):\n",
    "    return (w @ x - y)**2\n",
    "\n",
    "\n",
    "def grad_Q(w, gamma, v, x, y):\n",
    "    x = np.array(x)\n",
    "    return 2 * (np.dot(w - gamma * v, x) - y) * x\n",
    "\n",
    "\n",
    "def momentum_neterov(gamma, eta, v, w, x, y, k):\n",
    "    return gamma * v + (1 - gamma) * eta * np.mean([grad_Q(w, gamma, v, xx(x[i]), y[i]) for i in range(k, k+20)], axis=0)\n",
    "\n",
    "\n",
    "xx = lambda x: [x**i for i in range(4)]\n",
    "\n",
    "coord_x = np.arange(-4.0, 6.0, 0.1) # значения по оси абсцисс [-4; 6] с шагом 0.1\n",
    "coord_y = func(coord_x) # значения функции по оси ординат\n",
    "\n",
    "sz = len(coord_x)\n",
    "eta = np.array([0.1, 0.01, 0.001, 0.0001])\n",
    "w = np.array([0., 0., 0., 0.]) \n",
    "N = 500 \n",
    "lm = 0.02 \n",
    "batch_size = 20\n",
    "gamma = 0.8 \n",
    "v = np.zeros(len(w)) \n",
    "\n",
    "Qe = np.mean([Q(w, xx(coord_x[i]), coord_y[i]) for i in range(sz)])\n",
    "np.random.seed(0) \n",
    "\n",
    "# здесь продолжайте программу\n",
    "for _ in range(N):\n",
    "    k = np.random.randint(0, sz-batch_size-1)\n",
    "    Qk = (np.mean([Q(w, xx(coord_x[i]), coord_y[i]) for i in range(k, k + 20)]))\n",
    "    v = momentum_neterov(gamma, eta, v, w, coord_x, coord_y, k)\n",
    "    w = w - v\n",
    "    #print(Qe)\n",
    "    Qe = lm * Qk + (1 - lm) * Qe\n",
    "\n",
    "Q = np.mean([Q(w, xx(coord_x[i]), coord_y[i]) for i in range(sz)])\n",
    "Q"
   ]
  },
  {
   "cell_type": "code",
   "execution_count": 14,
   "metadata": {},
   "outputs": [
    {
     "data": {
      "text/plain": [
       "0.02023818813679436"
      ]
     },
     "execution_count": 14,
     "metadata": {},
     "output_type": "execute_result"
    }
   ],
   "source": [
    "import numpy as np\n",
    "\n",
    "\n",
    "def func(x):\n",
    "    return -0.7 * x - 0.2 * x ** 2 + 0.05 * x ** 3 - 0.2 * np.cos(3 * x) + 2\n",
    "\n",
    "def model_a(w, x):\n",
    "    return w @ x\n",
    "\n",
    "def loss(w, x):\n",
    "    return (model_a(w, x) - func(x[1]))**2\n",
    "\n",
    "def grad_loss(w, x):\n",
    "    return 2 * (model_a(w, x) - func(x[1])) * x.T\n",
    "\n",
    "\n",
    "\n",
    "coord_x = np.arange(-4.0, 6.0, 0.1)\n",
    "coord_y = func(coord_x)\n",
    "\n",
    "sz = len(coord_x)\t\n",
    "eta = np.array([0.1, 0.01, 0.001, 0.0001])\n",
    "w = np.array([0., 0., 0., 0.]) \n",
    "N = 500 \n",
    "lm = 0.02 \n",
    "batch_size = 20\n",
    "gamma = 0.8 \n",
    "v = np.array([0., 0., 0., 0.]) \n",
    "X = np.array([[xi**n for n in range(len(w))] for xi in coord_x])\n",
    "Qe = np.mean([loss(w, x) for x in X]) \n",
    "np.random.seed(0) \n",
    "for _ in range(N):\n",
    "    k = np.random.randint(0, sz - batch_size - 1)\n",
    "    Qk = np.mean([loss(w, X[i]) for i in range(k, k + batch_size)])\n",
    "    grad_Qk = 1/batch_size * np.sum([grad_loss(w - gamma * v, X[i]) for i in range(k, k + batch_size)], axis=0)\n",
    "    v = gamma * v + (1 - gamma) * eta * grad_Qk\n",
    "    w = w - v\n",
    "    Qe = lm * Qk + (1 - lm) * Qe\n",
    "    #print(Qe)\n",
    "    \n",
    "Q = np.mean([loss(w, x) for x in X]) \n",
    "Q"
   ]
  },
  {
   "cell_type": "markdown",
   "metadata": {},
   "source": [
    "### Подвиг 7\n",
    "_Вычислить весовой вектор_"
   ]
  },
  {
   "cell_type": "code",
   "execution_count": 22,
   "metadata": {},
   "outputs": [],
   "source": [
    "import numpy as np\n",
    "\n",
    "\n",
    "# логарифмическая функция потерь\n",
    "def loss(w, x, y):\n",
    "    M = np.dot(w, x) * y\n",
    "    return np.log2(1 + np.exp(-M))\n",
    "\n",
    "\n",
    "# производная логарифмической функции потерь по вектору w\n",
    "def df(w, x, y):\n",
    "    M = np.dot(w, x) * y\n",
    "    return -(np.exp(-M) * x.T * y) / (1 + np.exp(-M) * np.log(2))\n",
    "\n",
    "\n",
    "data_x = [(5.3, 2.3), (5.7, 2.5), (4.0, 1.0), (5.6, 2.4), (4.5, 1.5), (5.4, 2.3), (4.8, 1.8), (4.5, 1.5), (5.1, 1.5), (6.1, 2.3), (5.1, 1.9), (4.0, 1.2), (5.2, 2.0), (3.9, 1.4), (4.2, 1.2), (4.7, 1.5), (4.8, 1.8), (3.6, 1.3), (4.6, 1.4), (4.5, 1.7), (3.0, 1.1), (4.3, 1.3), (4.5, 1.3), (5.5, 2.1), (3.5, 1.0), (5.6, 2.2), (4.2, 1.5), (5.8, 1.8), (5.5, 1.8), (5.7, 2.3), (6.4, 2.0), (5.0, 1.7), (6.7, 2.0), (4.0, 1.3), (4.4, 1.4), (4.5, 1.5), (5.6, 2.4), (5.8, 1.6), (4.6, 1.3), (4.1, 1.3), (5.1, 2.3), (5.2, 2.3), (5.6, 1.4), (5.1, 1.8), (4.9, 1.5), (6.7, 2.2), (4.4, 1.3), (3.9, 1.1), (6.3, 1.8), (6.0, 1.8), (4.5, 1.6), (6.6, 2.1), (4.1, 1.3), (4.5, 1.5), (6.1, 2.5), (4.1, 1.0), (4.4, 1.2), (5.4, 2.1), (5.0, 1.5), (5.0, 2.0), (4.9, 1.5), (5.9, 2.1), (4.3, 1.3), (4.0, 1.3), (4.9, 2.0), (4.9, 1.8), (4.0, 1.3), (5.5, 1.8), (3.7, 1.0), (6.9, 2.3), (5.7, 2.1), (5.3, 1.9), (4.4, 1.4), (5.6, 1.8), (3.3, 1.0), (4.8, 1.8), (6.0, 2.5), (5.9, 2.3), (4.9, 1.8), (3.3, 1.0), (3.9, 1.2), (5.6, 2.1), (5.8, 2.2), (3.8, 1.1), (3.5, 1.0), (4.5, 1.5), (5.1, 1.9), (4.7, 1.4), (5.1, 1.6), (5.1, 2.0), (4.8, 1.4), (5.0, 1.9), (5.1, 2.4), (4.6, 1.5), (6.1, 1.9), (4.7, 1.6), (4.7, 1.4), (4.7, 1.2), (4.2, 1.3), (4.2, 1.3)]\n",
    "data_y = [1, 1, -1, 1, -1, 1, 1, -1, 1, 1, 1, -1, 1, -1, -1, -1, -1, -1, -1, 1, -1, -1, -1, 1, -1, 1, -1, 1, 1, 1, 1, -1, 1, -1, -1, -1, 1, 1, -1, -1, 1, 1, 1, 1, -1, 1, -1, -1, 1, 1, -1, 1, -1, -1, 1, -1, -1, 1, 1, 1, -1, 1, -1, -1, 1, 1, -1, 1, -1, 1, 1, 1, -1, 1, -1, 1, 1, 1, 1, -1, -1, 1, 1, -1, -1, -1, 1, -1, -1, 1, -1, 1, 1, -1, 1, -1, -1, -1, -1, -1]\n",
    "\n",
    "x_train = np.array([[1, x[0], x[1]] for x in data_x])\n",
    "y_train = np.array(data_y)\n",
    "\n",
    "n_train = len(x_train)  # размер обучающей выборки\n",
    "w = [0.0, 0.0, 0.0]  # начальные весовые коэффициенты\n",
    "nt = np.array([0.1, 0.05, 0.05])  # шаг обучения для каждого параметра w0, w1, w2\n",
    "lm = 0.01  # значение параметра лямбда для вычисления скользящего экспоненциального среднего\n",
    "N = 200  # число итераций алгоритма SGD\n",
    "batch_size = 10 # размер мини-батча (величина K = 10)\n",
    "\n",
    "alpha = 0.7 # параметр для RMSProp\n",
    "G = np.zeros(len(w))  # параметр для RMSProp\n",
    "eps = 0.01 # параметр для RMSProp\n",
    "\n",
    "# Qe =  начальное значение среднего эмпирического риска\n",
    "np.random.seed(0) # генерация одинаковых последовательностей псевдослучайных чисел\n",
    "\n",
    "# здесь продолжайте программу\n",
    "\n",
    "\n",
    "\n",
    "\n",
    "\n"
   ]
  },
  {
   "cell_type": "markdown",
   "metadata": {},
   "source": [
    "### Подвиг 6 (повтор)"
   ]
  },
  {
   "cell_type": "code",
   "execution_count": null,
   "metadata": {},
   "outputs": [],
   "source": []
  },
  {
   "cell_type": "code",
   "execution_count": null,
   "metadata": {},
   "outputs": [],
   "source": []
  },
  {
   "cell_type": "code",
   "execution_count": null,
   "metadata": {},
   "outputs": [],
   "source": []
  },
  {
   "cell_type": "code",
   "execution_count": null,
   "metadata": {},
   "outputs": [],
   "source": []
  },
  {
   "cell_type": "code",
   "execution_count": null,
   "metadata": {},
   "outputs": [],
   "source": []
  },
  {
   "cell_type": "code",
   "execution_count": null,
   "metadata": {},
   "outputs": [],
   "source": []
  },
  {
   "cell_type": "code",
   "execution_count": null,
   "metadata": {},
   "outputs": [],
   "source": []
  },
  {
   "cell_type": "code",
   "execution_count": null,
   "metadata": {},
   "outputs": [],
   "source": []
  },
  {
   "cell_type": "code",
   "execution_count": null,
   "metadata": {},
   "outputs": [],
   "source": []
  },
  {
   "cell_type": "code",
   "execution_count": null,
   "metadata": {},
   "outputs": [],
   "source": []
  },
  {
   "cell_type": "code",
   "execution_count": null,
   "metadata": {},
   "outputs": [],
   "source": []
  }
 ],
 "metadata": {
  "kernelspec": {
   "display_name": "Python 3 (ipykernel)",
   "language": "python",
   "name": "python3"
  },
  "language_info": {
   "codemirror_mode": {
    "name": "ipython",
    "version": 3
   },
   "file_extension": ".py",
   "mimetype": "text/x-python",
   "name": "python",
   "nbconvert_exporter": "python",
   "pygments_lexer": "ipython3",
   "version": "3.12.0"
  }
 },
 "nbformat": 4,
 "nbformat_minor": 4
}
