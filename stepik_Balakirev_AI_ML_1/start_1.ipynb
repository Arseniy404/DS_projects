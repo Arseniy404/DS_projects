{
 "cells": [
  {
   "cell_type": "markdown",
   "metadata": {
    "jp-MarkdownHeadingCollapsed": true
   },
   "source": [
    "# 1.4 Линейная модель. Понятие переобучения"
   ]
  },
  {
   "cell_type": "markdown",
   "metadata": {},
   "source": [
    "### Подвиг 4\n",
    "_Поиск эмпирического риска среднеквадратичного функционала потерь_"
   ]
  },
  {
   "cell_type": "code",
   "execution_count": 13,
   "metadata": {},
   "outputs": [],
   "source": [
    "import numpy as np\n",
    "\n",
    "np.random.seed(0) # псевдослучайные числа образуют одну и ту же последовательность (при каждом запуске)\n",
    "x = np.arange(-1.0, 1.0, 0.1) # аргумент [-1; 1] с шагом 0,1\n",
    "\n",
    "size_train = len(x)  # размер выборки\n",
    "w = [0.5, -0.3]  # коэффициенты модели\n",
    "model_a = lambda m_x, m_w: (m_w[1] * m_x + m_w[0])  # модель\n",
    "loss = lambda ax, y: (ax - y) ** 2 # квадратическая функция потерь\n",
    "\n",
    "y = model_a(x, w) + np.random.normal(0, 0.1, len(x)) # целевые значения\n"
   ]
  },
  {
   "cell_type": "code",
   "execution_count": 26,
   "metadata": {},
   "outputs": [
    {
     "data": {
      "text/plain": [
       "0.010469526728196498"
      ]
     },
     "execution_count": 26,
     "metadata": {},
     "output_type": "execute_result"
    }
   ],
   "source": [
    "Q = loss(model_a(x, w), y).sum() / size_train\n",
    "Q"
   ]
  },
  {
   "cell_type": "markdown",
   "metadata": {},
   "source": [
    "### Подвиг 5\n",
    "_Поиск коэффициентов линейной регрессии w1, w2_"
   ]
  },
  {
   "cell_type": "code",
   "execution_count": 36,
   "metadata": {},
   "outputs": [],
   "source": [
    "import numpy as np\n",
    "import pandas as pd\n",
    "np.random.seed(0) # псевдослучайные числа образуют одну и ту же последовательность (при каждом запуске)\n",
    "x = np.arange(-1.0, 1.0, 0.1) # аргумент [-1; 1] с шагом 0,1\n",
    "\n",
    "model_a = lambda xx, ww: (ww[0] + ww[1] * xx) # модель\n",
    "\n",
    "Y = -5.2 + 0.7 * x + np.random.normal(0, 0.1, len(x)) # вектор целевых значений"
   ]
  },
  {
   "cell_type": "code",
   "execution_count": 63,
   "metadata": {},
   "outputs": [],
   "source": [
    "X = np.array([[1, i] for i in x])\n",
    "product_mat = X.T.dot(X)\n",
    "invers_mat = np.linalg.inv(product_mat)\n",
    "product_inv_mat = invers_mat.dot(X.T)\n",
    "w = product_inv_mat.dot(Y)"
   ]
  },
  {
   "cell_type": "markdown",
   "metadata": {},
   "source": [
    "### Подвиг 7\n",
    "_Поиск коэффициентов линейной регрессии w0, w1, w2, w3, для функции f(x) = w0 + w1*x + w2*x^2 + w3*x^3_"
   ]
  },
  {
   "cell_type": "code",
   "execution_count": 69,
   "metadata": {},
   "outputs": [],
   "source": [
    "import numpy as np\n",
    "\n",
    "np.random.seed(0) # псевдослучайные числа образуют одну и ту же последовательность (при каждом запуске)\n",
    "x = np.arange(-1.0, 1.0, 0.1) # аргумент [-1; 1] с шагом 0,1\n",
    "\n",
    "\n",
    "model_a = lambda xx, ww: (ww[0] + ww[1] * xx + ww[2] * xx ** 2 + ww[3] * xx ** 3) # модель\n",
    "Y = np.sin(x * 5) + 2 * x + np.random.normal(0, 0.1, len(x)) # вектор целевых значений\n",
    "\n",
    "X = np.array([[1, xx, xx**2, xx**3] for xx in x]) # обучающая выборка для поиска коэффициентов w модели a"
   ]
  },
  {
   "cell_type": "code",
   "execution_count": 70,
   "metadata": {},
   "outputs": [],
   "source": [
    "product_mat = X.T.dot(X)\n",
    "invers_mat = np.linalg.inv(product_mat)\n",
    "product_inv_mat = invers_mat.dot(X.T)\n",
    "w = product_inv_mat.dot(Y)"
   ]
  },
  {
   "cell_type": "code",
   "execution_count": 74,
   "metadata": {},
   "outputs": [],
   "source": [
    "w = [2/3, -1, 3]\n"
   ]
  },
  {
   "cell_type": "markdown",
   "metadata": {
    "jp-MarkdownHeadingCollapsed": true
   },
   "source": [
    "# 1.6 Уравнение гиперплоскости в задачах бинарной классификации"
   ]
  },
  {
   "cell_type": "markdown",
   "metadata": {},
   "source": [
    "### Подвиг 7\n",
    "_Классифицировать объекты выборки_"
   ]
  },
  {
   "cell_type": "code",
   "execution_count": 78,
   "metadata": {},
   "outputs": [],
   "source": [
    "import numpy as np\n",
    "\n",
    "x_test = [(5, -3), (-3, 8), (3, 6), (0, 0), (5, 3), (-3, -1), (-3, 3)]\n",
    "# здесь продолжайте программу"
   ]
  },
  {
   "cell_type": "code",
   "execution_count": 88,
   "metadata": {},
   "outputs": [],
   "source": [
    "w = [33/13, -9/13, -1]\n",
    "sign = lambda i: 1 if i < 0 else (0 if i == 0 else -1)\n",
    "# или используем функцию готовую np.sign\n",
    "predict = [sign(w[0] + x_test[i][0] * w[1] + x_test[i][1] * w[2]) for i in range(len(x_test))]"
   ]
  },
  {
   "cell_type": "code",
   "execution_count": 89,
   "metadata": {},
   "outputs": [
    {
     "data": {
      "text/plain": [
       "[-1, 1, 1, -1, 1, -1, -1]"
      ]
     },
     "execution_count": 89,
     "metadata": {},
     "output_type": "execute_result"
    }
   ],
   "source": [
    "predict"
   ]
  },
  {
   "cell_type": "markdown",
   "metadata": {
    "jp-MarkdownHeadingCollapsed": true
   },
   "source": [
    "# 1.7 Решение простой задачи бинарной классификации"
   ]
  },
  {
   "cell_type": "markdown",
   "metadata": {
    "jp-MarkdownHeadingCollapsed": true
   },
   "source": [
    "### Подвиг 3\n",
    "_Вычислите значения отступов (margin) для образов_"
   ]
  },
  {
   "cell_type": "code",
   "execution_count": 125,
   "metadata": {},
   "outputs": [],
   "source": [
    "import numpy as np\n",
    "\n",
    "w = np.array([15/7, -9/7, -1])\n",
    "x_test = np.array([[-8, -4], [-2, 2], [4, 8], [6, 3]]) # done\n",
    "y_test = np.array([1, 1, -1, -1])                      # done\n",
    "\n",
    "# здесь продолжайте программу\n"
   ]
  },
  {
   "cell_type": "code",
   "execution_count": 126,
   "metadata": {},
   "outputs": [],
   "source": [
    "margin = [((w[0] + w[1]*x_test[i][0] + w[2]*x_test[i][1]) * y_test[i]) for i in range(len(x_test))]"
   ]
  },
  {
   "cell_type": "code",
   "execution_count": 127,
   "metadata": {},
   "outputs": [
    {
     "data": {
      "text/plain": [
       "[16.42857142857143, 2.7142857142857144, 11.0, 8.571428571428573]"
      ]
     },
     "execution_count": 127,
     "metadata": {},
     "output_type": "execute_result"
    }
   ],
   "source": [
    "margin"
   ]
  },
  {
   "cell_type": "markdown",
   "metadata": {
    "jp-MarkdownHeadingCollapsed": true
   },
   "source": [
    "### Подвиг 4\n",
    "_Вычислите значения отступов (margin) для образов_"
   ]
  },
  {
   "cell_type": "code",
   "execution_count": 173,
   "metadata": {},
   "outputs": [],
   "source": [
    "import numpy as np\n",
    "\n",
    "w = np.array([-8/3, -2/3, 1])\n",
    "x_test = np.array([(-5, 2), (-4, 6), (3, 2), (3, -3), (5, 5), (5, 2), (-1, 3)])\n",
    "y_test = np.array([1, 1, 1, -1, -1, -1, -1])                     \n",
    "\n",
    "\n",
    "\n",
    "margin = [((w[0] + w[1]*x_test[i][0] + w[2]*x_test[i][1]) * y_test[i]) for i in range(len(x_test))]"
   ]
  },
  {
   "cell_type": "code",
   "execution_count": 174,
   "metadata": {},
   "outputs": [],
   "source": [
    "func = lambda i: 1 if i < 0 else 0"
   ]
  },
  {
   "cell_type": "code",
   "execution_count": 175,
   "metadata": {},
   "outputs": [],
   "source": [
    "Q = sum([func(x) for x in margin])"
   ]
  },
  {
   "cell_type": "code",
   "execution_count": 176,
   "metadata": {},
   "outputs": [
    {
     "data": {
      "text/plain": [
       "2"
      ]
     },
     "execution_count": 176,
     "metadata": {},
     "output_type": "execute_result"
    }
   ],
   "source": [
    "Q"
   ]
  },
  {
   "cell_type": "code",
   "execution_count": 178,
   "metadata": {},
   "outputs": [],
   "source": [
    "import numpy as np\n",
    "\n",
    "x_test = np.array([(-5, 2), (-4, 6), (3, 2), (3, -3), (5, 5), (5, 2), (-1, 3)])\n",
    "y_test = np.array([1, 1, 1, -1, -1, -1, -1])\n",
    "w = np.array([-8/3, -2/3, 1])\n",
    "\n",
    "# здесь продолжайте программу\n",
    "margin = [((w[0] + w[1]*x_test[i][0] + w[2]*x_test[i][1]) * y_test[i]) for i in range(len(x_test))]\n",
    "func = lambda i: 1 if i < 0 else 0\n",
    "Q = sum([func(x) for x in margin])"
   ]
  },
  {
   "cell_type": "code",
   "execution_count": 182,
   "metadata": {},
   "outputs": [
    {
     "data": {
      "text/plain": [
       "[2.6666666666666665,\n",
       " 6.0,\n",
       " -2.666666666666666,\n",
       " 7.666666666666666,\n",
       " 1.0,\n",
       " 4.0,\n",
       " -1.0]"
      ]
     },
     "execution_count": 182,
     "metadata": {},
     "output_type": "execute_result"
    }
   ],
   "source": [
    "margin"
   ]
  },
  {
   "cell_type": "markdown",
   "metadata": {},
   "source": [
    "# 1.8 Функции потерь в задачах линейной бинарной классификации"
   ]
  },
  {
   "cell_type": "markdown",
   "metadata": {
    "jp-MarkdownHeadingCollapsed": true
   },
   "source": [
    "### Подвиг 4\n",
    "_вычислить значение показателя качества Q (среднего эмпирического риска)_"
   ]
  },
  {
   "cell_type": "code",
   "execution_count": 198,
   "metadata": {},
   "outputs": [],
   "source": [
    "import numpy as np\n",
    "\n",
    "\n",
    "def func(x):\n",
    "    return 0.1 * x**2 - np.sin(x) + 0.1 * np.cos(x * 5) + 1.\n",
    "\n",
    "\n",
    "# здесь объявляйте дополнительные функции (если необходимо)\n",
    "\n",
    "w=[1.11, -0.26, 0.061, 0.0226, 0.00178] \n",
    "coord_x = np.arange(-5.0, 5.0, 0.1) # значения отсчетов по оси абсцисс\n",
    "coord_y = func(coord_x) # значения функции по оси ординат\n",
    "\n",
    "sz = len(coord_x) # общее число отсчетов\n",
    "\n",
    "# здесь продолжайте программу\n",
    "model = lambda x: w[0] + w[1]*x + w[2]*x**2 + w[3]*x**3 + w[4]*x**4\n",
    "predict = [model(x) for x in coord_x]\n",
    "Q = sum([(predict[x] - coord_y[x])**2 for x in range(len(predict))])/len(predict)"
   ]
  },
  {
   "cell_type": "markdown",
   "metadata": {
    "jp-MarkdownHeadingCollapsed": true
   },
   "source": [
    "### Подвиг 5"
   ]
  },
  {
   "cell_type": "code",
   "execution_count": 201,
   "metadata": {},
   "outputs": [],
   "source": [
    "import numpy as np\n",
    "\n",
    "\n",
    "def func(x):\n",
    "    return 0.5 * x**2 - 0.1 * 1/np.exp(-x) + 0.5 * np.cos(2*x) - 2.\n",
    "\n",
    "\n",
    "# здесь объявляйте дополнительные функции (если необходимо)\n",
    "\n",
    "w=[-1.59, -0.69, 0.278, 0.497, -0.106] \n",
    "coord_x = np.arange(-5.0, 5.0, 0.1) # значения отсчетов по оси абсцисс\n",
    "coord_y = func(coord_x) # значения функции по оси ординат\n",
    "\n",
    "sz = len(coord_x) # общее число отсчетов\n",
    "\n",
    "# здесь продолжайте программу\n",
    "model = lambda x: w[0] + w[1]*x + w[2]*x**2 + w[3]*np.cos(2*x) + w[4]*np.sin(2*x)\n",
    "predict = [model(x) for x in coord_x]\n",
    "Q = sum([abs(predict[x] - coord_y[x]) for x in range(len(predict))])/len(predict)"
   ]
  },
  {
   "cell_type": "markdown",
   "metadata": {},
   "source": [
    "### Подвиг 6"
   ]
  },
  {
   "cell_type": "code",
   "execution_count": 238,
   "metadata": {},
   "outputs": [],
   "source": [
    "import numpy as np\n",
    "\n",
    "data_x = [(5.8, 1.2), (5.6, 1.5), (6.5, 1.5), (6.1, 1.3), (6.4, 1.3), (7.7, 2.0), (6.0, 1.8), (5.6, 1.3), (6.0, 1.6), (5.8, 1.9), (5.7, 2.0), (6.3, 1.5), (6.2, 1.8), (7.7, 2.3), (5.8, 1.2), (6.3, 1.8), (6.0, 1.0), (6.2, 1.3), (5.7, 1.3), (6.3, 1.9), (6.7, 2.5), (5.5, 1.2), (4.9, 1.0), (6.1, 1.4), (6.0, 1.6), (7.2, 2.5), (7.3, 1.8), (6.6, 1.4), (5.6, 2.0), (5.5, 1.0), (6.4, 2.2), (5.6, 1.3), (6.6, 1.3), (6.9, 2.1), (6.8, 2.1), (5.7, 1.3), (7.0, 1.4), (6.1, 1.4), (6.1, 1.8), (6.7, 1.7), (6.0, 1.5), (6.5, 1.8), (6.4, 1.5), (6.9, 1.5), (5.6, 1.3), (6.7, 1.4), (5.8, 1.9), (6.3, 1.3), (6.7, 2.1), (6.2, 2.3), (6.3, 2.4), (6.7, 1.8), (6.4, 2.3), (6.2, 1.5), (6.1, 1.4), (7.1, 2.1), (5.7, 1.0), (6.8, 1.4), (6.8, 2.3), (5.1, 1.1), (4.9, 1.7), (5.9, 1.8), (7.4, 1.9), (6.5, 2.0), (6.7, 1.5), (6.5, 2.0), (5.8, 1.0), (6.4, 2.1), (7.6, 2.1), (5.8, 2.4), (7.7, 2.2), (6.3, 1.5), (5.0, 1.0), (6.3, 1.6), (7.7, 2.3), (6.4, 1.9), (6.5, 2.2), (5.7, 1.2), (6.9, 2.3), (5.7, 1.3), (6.1, 1.2), (5.4, 1.5), (5.2, 1.4), (6.7, 2.3), (7.9, 2.0), (5.6, 1.1), (7.2, 1.8), (5.5, 1.3), (7.2, 1.6), (6.3, 2.5), (6.3, 1.8), (6.7, 2.4), (5.0, 1.0), (6.4, 1.8), (6.9, 2.3), (5.5, 1.3), (5.5, 1.1), (5.9, 1.5), (6.0, 1.5), (5.9, 1.8)]\n",
    "data_y = [-1, -1, -1, -1, -1, 1, 1, -1, -1, 1, 1, -1, 1, 1, -1, 1, -1, -1, -1, 1, 1, -1, -1, -1, -1, 1, 1, -1, 1, -1, 1, -1, -1, 1, 1, -1, -1, 1, 1, -1, 1, 1, -1, -1, -1, -1, 1, -1, 1, 1, 1, 1, 1, -1, -1, 1, -1, -1, 1, -1, 1, -1, 1, 1, -1, 1, -1, 1, 1, 1, 1, 1, -1, -1, 1, 1, 1, -1, 1, -1, -1, -1, -1, 1, 1, -1, 1, -1, 1, 1, 1, 1, -1, 1, 1, -1, -1, -1, -1, 1]\n",
    "\n",
    "# здесь продолжайте программу\n"
   ]
  },
  {
   "cell_type": "code",
   "execution_count": 239,
   "metadata": {},
   "outputs": [],
   "source": [
    "data_x = np.array([[1] + [*x] for x in data_x])\n",
    "pt = np.sum([x * y for x, y in zip(data_x, data_y)], axis=0)\n",
    "xxt = np.sum([np.outer(x, x) for x in data_x], axis=0)\n",
    "w = np.dot(pt, np.linalg.inv(xxt)).tolist()"
   ]
  },
  {
   "cell_type": "code",
   "execution_count": 243,
   "metadata": {},
   "outputs": [
    {
     "data": {
      "image/png": "[encoded data removed]",
      "text/plain": [
       "<Figure size 640x480 with 1 Axes>"
      ]
     },
     "metadata": {},
     "output_type": "display_data"
    }
   ],
   "source": [
    "class_1 = data_x[data_y == 1]\n",
    "class_minus_1 = data_x[data_y == -1]\n",
    "\n",
    "x_min, x_max = np.min(data_x[:, 0]), np.max(data_x[:, 0])\n",
    "x_range = np.linspace(x_min, x_max, 100)\n",
    "y_range = - (w[0] + w[1] * x_range) / w[2]\n",
    "\n",
    "plt.figure()\n",
    "plt.scatter(class_1[:, 0], class_1[:, 1], color='blue', label='Class 1')\n",
    "plt.scatter(class_minus_1[:, 0], class_minus_1[:, 1], color='red', label='Class -1')\n",
    "plt.plot(x_range, y_range, color='green', label='Decision boundary')\n",
    "plt.legend();\n"
   ]
  }
 ],
 "metadata": {
  "kernelspec": {
   "display_name": "Python 3 (ipykernel)",
   "language": "python",
   "name": "python3"
  },
  "language_info": {
   "codemirror_mode": {
    "name": "ipython",
    "version": 3
   },
   "file_extension": ".py",
   "mimetype": "text/x-python",
   "name": "python",
   "nbconvert_exporter": "python",
   "pygments_lexer": "ipython3",
   "version": "3.12.0"
  }
 },
 "nbformat": 4,
 "nbformat_minor": 4
}
